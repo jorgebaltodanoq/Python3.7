{
 "cells": [
  {
   "cell_type": "markdown",
   "metadata": {},
   "source": [
    "# **DATOS MUTABLES EN PYTHON3**\n",
    "\n",
    "Las **sencuencias mutables** pueden ser cambiadas despues de su creacion, y se tiene a los diccionarios, dentro de todos los datos incorporados en **SanPython** los diccionarios son la colummna vertevral de cada objeto en Python, pues es el unico tipo de dato que te permite realizar mapeos estandar."
   ]
  },
  {
   "cell_type": "markdown",
   "metadata": {},
   "source": [
    "Hay que tener en cuenta que para la creacion de un diccionario, la sintaxis es la siguiente:\n",
    "\n",
    "**\"nombrediccionario= { clave: valor, clave : valor}\"**\n",
    "\n",
    "Ademas, para poder devolver algun valor, se debe acceder a por su clave. Otro punto importante es que todas las claves van entre comillas y el valor va en comillas sólo los valores cadena(str) y los digitos sin ellas, a menos que se desea ser consideras como cadenas."
   ]
  },
  {
   "cell_type": "code",
   "execution_count": 14,
   "metadata": {},
   "outputs": [
    {
     "data": {
      "text/plain": [
       "{'Nombre': 'Jorge',\n",
       " 'Apellido': 'Baltodano',\n",
       " 'Carrera': 'Ing.Sistemas',\n",
       " 'Empresa': 'Sunat',\n",
       " 'Talla': 1.65}"
      ]
     },
     "execution_count": 14,
     "metadata": {},
     "output_type": "execute_result"
    }
   ],
   "source": [
    "#Creando un diccionario.\n",
    "miDiccionario = {\"Nombre\":\"Jorge\", \"Apellido\":\"Baltodano\",\"Carrera\":\"Ing.Sistemas\", 'Empresa':\"Sunat\",\"Talla\":1.65}\n",
    "miDiccionario"
   ]
  },
  {
   "cell_type": "markdown",
   "metadata": {},
   "source": [
    "Otra forma de convertir tanto tuplas como listas en diccionarios es necesario llamar a la funcion **dict()** , así se podra obtener un nuevo tipo de dato con clave: valor."
   ]
  },
  {
   "cell_type": "code",
   "execution_count": 26,
   "metadata": {},
   "outputs": [
    {
     "data": {
      "text/plain": [
       "{'Nombre': 'Jorge',\n",
       " 'Apellido': 'Baltodano',\n",
       " 'Carrera': 'Ing.Sistemas',\n",
       " 'Empresa': 'Sunat',\n",
       " 'Talla': 1.65}"
      ]
     },
     "execution_count": 26,
     "metadata": {},
     "output_type": "execute_result"
    }
   ],
   "source": [
    "lista=[(\"Nombre\",\"Jorge\"), (\"Apellido\",\"Baltodano\"),(\"Carrera\",\"Ing.Sistemas\"), ('Empresa',\"Sunat\"),(\"Talla\",1.65)]\n",
    "miDiccionario=dict(lista)\n",
    "miDiccionario"
   ]
  },
  {
   "cell_type": "markdown",
   "metadata": {},
   "source": [
    "Para acceder a los elementos de miDiccionario es necesario primero acceder a su clave; manos a la obra.\n"
   ]
  },
  {
   "cell_type": "code",
   "execution_count": 33,
   "metadata": {},
   "outputs": [
    {
     "data": {
      "text/plain": [
       "dict_values(['Jorge', 'Baltodano', 'Ing.Sistemas', 'Sunat', 1.65])"
      ]
     },
     "execution_count": 33,
     "metadata": {},
     "output_type": "execute_result"
    }
   ],
   "source": [
    "# Accediendo a cada elemento de miDiccionario\n",
    "miDiccionario[\"Nombre\"]   #Salida: \"Jorge\"\n",
    "miDiccionario[\"Apellido\"] #Salida: \"Baltodano\"\n",
    "miDiccionario[\"Carrera\"]  #Salida: \"Ing.Sistemas\"\n",
    "miDiccionario[\"Empresa\"]  #Salida: \"Sunat\"\n",
    "miDiccionario[\"Talla\"]    #Salida: 1.65\n",
    "\n",
    "# Accediendo a su claves.\n",
    "miDiccionario.keys()\n",
    " #dict_keys(['Nombre', 'Apellido', 'Carrera', 'Empresa', 'Talla'])\n",
    "\n",
    "# Accediendo a sus valores\n",
    "miDiccionario.values()\n",
    " #salida: dict_values(['Jorge', 'Baltodano', 'Ing.Sistemas', 'Sunat', 1.65])"
   ]
  },
  {
   "cell_type": "markdown",
   "metadata": {},
   "source": [
    "## **METODOS DE LOS DICCIONARIOS**\n",
    "Python proporciona una variedad de operaciones aplicables a diccionarios, dado que los diccionarios son contenedores. Además se debe saber que un diccionario es un iterable, por lo que se puede transmitir a culaquier funcion o metodo.\n",
    "Podemos clasificar los metodos de los diccionarios en los siguiente:\n",
    "\n",
    "> **METODOS NO MODIFICANTES**\n",
    "\n",
    "**Aclaracion**\n",
    "\"dict\" hace referencia a algun diccionario ya creado.\n",
    "\n",
    "|METODO| DESCRIPCION|\n",
    "|:---|:---|\n",
    "|dict.copy()|Devuelve una copia plana de un diccionario|\n",
    "|dict.difference(dict1)|Devuelve un conjunto de todos los elementos de dict que no estan en dict1\n",
    "\n",
    "\n",
    "\n",
    "\n"
   ]
  },
  {
   "cell_type": "code",
   "execution_count": null,
   "metadata": {},
   "outputs": [],
   "source": []
  }
 ],
 "metadata": {
  "kernelspec": {
   "display_name": "Python 3",
   "language": "python",
   "name": "python3"
  },
  "language_info": {
   "codemirror_mode": {
    "name": "ipython",
    "version": 3
   },
   "file_extension": ".py",
   "mimetype": "text/x-python",
   "name": "python",
   "nbconvert_exporter": "python",
   "pygments_lexer": "ipython3",
   "version": "3.7.1"
  }
 },
 "nbformat": 4,
 "nbformat_minor": 2
}
