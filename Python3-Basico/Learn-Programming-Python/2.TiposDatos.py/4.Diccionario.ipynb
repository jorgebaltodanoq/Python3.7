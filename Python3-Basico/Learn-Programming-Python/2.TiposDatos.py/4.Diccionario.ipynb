{
 "cells": [
  {
   "cell_type": "markdown",
   "metadata": {},
   "source": [
    "# **DATOS MUTABLES EN PYTHON3**\n",
    "\n",
    "Las **sencuencias mutables** pueden ser cambiadas despues de su creacion, y se tiene a los diccionarios, dentro de todos los datos incorporados en **SanPython** los diccionarios son la colummna vertebral de cada objeto en Python, pues es el unico tipo de dato que te permite realizar mapeos estandar."
   ]
  },
  {
   "cell_type": "markdown",
   "metadata": {},
   "source": [
    "Hay que tener en cuenta que para la creacion de un diccionario, la sintaxis es la siguiente:\n",
    "\n",
    "**\"nombrediccionario= { clave: valor, clave : valor}\"**\n",
    "\n",
    "Ademas, para poder devolver algun valor, se debe acceder a por su clave. Otro punto importante es que todas las claves van entre comillas y el valor va en comillas sólo los valores cadena(str) y los digitos sin ellas, a menos que se desea ser consideras como cadenas."
   ]
  },
  {
   "cell_type": "code",
   "execution_count": 14,
   "metadata": {},
   "outputs": [
    {
     "data": {
      "text/plain": [
       "{'Nombre': 'Jorge',\n",
       " 'Apellido': 'Baltodano',\n",
       " 'Carrera': 'Ing.Sistemas',\n",
       " 'Empresa': 'Sunat',\n",
       " 'Talla': 1.65}"
      ]
     },
     "execution_count": 14,
     "metadata": {},
     "output_type": "execute_result"
    }
   ],
   "source": [
    "#Creando un diccionario.\n",
    "miDiccionario = {\"Nombre\":\"Jorge\", \"Apellido\":\"Baltodano\",\"Carrera\":\"Ing.Sistemas\", 'Empresa':\"Sunat\",\"Talla\":1.65}\n",
    "miDiccionario"
   ]
  },
  {
   "cell_type": "markdown",
   "metadata": {},
   "source": [
    "Otra forma de convertir tanto tuplas como listas en diccionarios es utilizando el constructor **dict()** , así se podra obtener un nuevo tipo de dato con clave: valor."
   ]
  },
  {
   "cell_type": "code",
   "execution_count": 26,
   "metadata": {},
   "outputs": [
    {
     "data": {
      "text/plain": [
       "{'Nombre': 'Jorge',\n",
       " 'Apellido': 'Baltodano',\n",
       " 'Carrera': 'Ing.Sistemas',\n",
       " 'Empresa': 'Sunat',\n",
       " 'Talla': 1.65}"
      ]
     },
     "execution_count": 26,
     "metadata": {},
     "output_type": "execute_result"
    }
   ],
   "source": [
    "lista=[(\"Nombre\",\"Jorge\"), (\"Apellido\",\"Baltodano\"),(\"Carrera\",\"Ing.Sistemas\"), ('Empresa',\"Sunat\"),(\"Talla\",1.65)]\n",
    "miDiccionario=dict(lista)\n",
    "miDiccionario"
   ]
  },
  {
   "cell_type": "markdown",
   "metadata": {},
   "source": [
    "Para acceder a los elementos de miDiccionario es necesario primero acceder a su clave; manos a la obra.\n"
   ]
  },
  {
   "cell_type": "code",
   "execution_count": 33,
   "metadata": {},
   "outputs": [
    {
     "data": {
      "text/plain": [
       "dict_values(['Jorge', 'Baltodano', 'Ing.Sistemas', 'Sunat', 1.65])"
      ]
     },
     "execution_count": 33,
     "metadata": {},
     "output_type": "execute_result"
    }
   ],
   "source": [
    "# Accediendo a cada elemento de miDiccionario\n",
    "miDiccionario[\"Nombre\"]   #Salida: \"Jorge\"\n",
    "miDiccionario[\"Apellido\"] #Salida: \"Baltodano\"\n",
    "miDiccionario[\"Carrera\"]  #Salida: \"Ing.Sistemas\"\n",
    "miDiccionario[\"Empresa\"]  #Salida: \"Sunat\"\n",
    "miDiccionario[\"Talla\"]    #Salida: 1.65\n",
    "\n",
    "# Accediendo a su claves.\n",
    "miDiccionario.keys()\n",
    " #dict_keys(['Nombre', 'Apellido', 'Carrera', 'Empresa', 'Talla'])\n",
    "\n",
    "# Accediendo a sus valores\n",
    "miDiccionario.values()\n",
    " #salida: dict_values(['Jorge', 'Baltodano', 'Ing.Sistemas', 'Sunat', 1.65])"
   ]
  },
  {
   "cell_type": "markdown",
   "metadata": {},
   "source": [
    "**Otra caracteristica de Python es su flexibilidad y pontencia al poder permtir que otros diccionarios se encuentre\n",
    "dentro de otro diccionario**"
   ]
  },
  {
   "cell_type": "code",
   "execution_count": 7,
   "metadata": {},
   "outputs": [
    {
     "name": "stdout",
     "output_type": "stream",
     "text": [
      "{'117711': {'Nombre': 'Jorge', 'Apellido': 'Baltodano', 'Edad': 24, 'Carrera': 'Ing.Sistemas', 'Cargo': 'Administrativo'}, '121456': {'Nombre': 'Manuel', 'Apellido': 'Rodriguez', 'Edad': 25, 'Carrera': 'Telecomunicaciones', 'Cargo': 'SubGerente'}, '345456': {'Nombre': 'Evans', 'Apellido': 'Castillo', 'Edad': 26, 'Carrera': 'Contador Auxiliar', 'Cargo': 'Oficinista'}, '543234': {'Nombre': 'Brenda', 'Apellido': 'Torrez', 'Edad': 25, 'Carrera': 'Contador Auxiliar', 'Cargo': 'Administrativo'}, '654323': {'Nombre': 'Caroll', 'Apellido': 'Kourniatis', 'Edad': 24, 'Carrera': 'Administrador', 'Cargo': 'Atencion'}}\n"
     ]
    }
   ],
   "source": [
    "#Creando un diccionario dentro de otros diccionarios\n",
    "empleados={\n",
    "    \"117711\":{\"Nombre\":\"Jorge\",\"Apellido\":\"Baltodano\",\"Edad\":24,\"Carrera\":\"Ing.Sistemas\",\"Cargo\":\"Administrativo\"},\n",
    "    \"121456\":{\"Nombre\":\"Manuel\",\"Apellido\":\"Rodriguez\",\"Edad\":25,\"Carrera\":\"Telecomunicaciones\",\"Cargo\":\"SubGerente\"},\n",
    "    \"345456\":{\"Nombre\":\"Evans\",\"Apellido\":\"Castillo\",\"Edad\":26,\"Carrera\":\"Contador Auxiliar\",\"Cargo\":\"Oficinista\"},\n",
    "    \"543234\":{\"Nombre\":\"Brenda\",\"Apellido\":\"Torrez\",\"Edad\":25,\"Carrera\":\"Contador Auxiliar\",\"Cargo\":\"Administrativo\"},\n",
    "    \"654323\":{\"Nombre\":\"Caroll\",\"Apellido\":\"Kourniatis\",\"Edad\":24,\"Carrera\":\"Administrador\",\"Cargo\":\"Atencion\"}\n",
    "}\n",
    "\n",
    "#Mostrar el diccionario\n",
    "print(empleados)"
   ]
  },
  {
   "cell_type": "code",
   "execution_count": 46,
   "metadata": {},
   "outputs": [
    {
     "data": {
      "text/plain": [
       "{'Nombre': 'Jorge',\n",
       " 'Apellido': 'Baltodano',\n",
       " 'Edad': 24,\n",
       " 'Carrera': 'Ing.Sistemas',\n",
       " 'Cargo': 'Administrativo'}"
      ]
     },
     "execution_count": 46,
     "metadata": {},
     "output_type": "execute_result"
    }
   ],
   "source": [
    "#Accediendo a los elementos por su codigo\n",
    "empleados[\"117711\"] "
   ]
  },
  {
   "cell_type": "code",
   "execution_count": 3,
   "metadata": {},
   "outputs": [
    {
     "data": {
      "text/plain": [
       "{'Nombre': 'Evans',\n",
       " 'Apellido': 'Castillo',\n",
       " 'Edad': 26,\n",
       " 'Carrera': 'Contador Auxiliar',\n",
       " 'Cargo': 'Oficinista'}"
      ]
     },
     "execution_count": 3,
     "metadata": {},
     "output_type": "execute_result"
    }
   ],
   "source": [
    "#Accediendo a los elementos por su codigo\n",
    "empleados['345456']\n"
   ]
  },
  {
   "cell_type": "markdown",
   "metadata": {},
   "source": [
    "## **METODOS DE LOS DICCIONARIOS**\n",
    "Python proporciona una variedad de operaciones aplicables a diccionarios, dado que los diccionarios son contenedores. Además se debe saber que un diccionario es un iterable, por lo que se puede transmitir a cualquier funcion o metodo. Los métodos en **PYTHON** pueden clasificarse como:\n",
    "\n",
    "- Método Agregado y Creacion\n",
    "- Método de Retorno\n",
    "\n",
    "#### **METODOS DE AGREGADO Y CREACION**\n",
    "\n",
    "\n",
    "\n",
    "|METODO| DESCRIPCION|\n",
    "|:---|:---|\n",
    "|**copy()**|Devuelve una copia plana del diccionario |\n",
    "|**fromkeys()** | Crear un nuevo diccionario desde claves de secuencia|\n",
    "|**update()**| Actualiza o concatena diccionarios|\n",
    "|**setdefault()**|Establece una clave y valor por defecto|\n",
    "\n",
    "Ya mencionado todos los metodos de agregacion ycreacion que se puede realizar con los diccionarios, pues manos a la obra, que el tiempo apremia."
   ]
  },
  {
   "cell_type": "code",
   "execution_count": 1,
   "metadata": {},
   "outputs": [],
   "source": [
    "\"\"\"\n",
    "CREANDO DOS DICCIONARIOS\n",
    "\"\"\"\n",
    "#Diccionario Datos\n",
    "datosPersonales={\"Nombre\":\"Jorge\",\"Apellido\":\"Baltondano\",\"Cargo\":\"Ing.Sistemas\",\"Empresa\":\"Sunat\"}\n",
    "\n",
    "#Diccionario Datos Complementarios. \n",
    "datosExtras={\"Color\":\"Caucasico\",\"Talla\":1.65, \"Peso\":70,\"Hobby\":\"Grabar Videos\",\"Empresa\":\"Sunat\"}\n"
   ]
  },
  {
   "cell_type": "markdown",
   "metadata": {},
   "source": [
    "> **METODO copy()**"
   ]
  },
  {
   "cell_type": "code",
   "execution_count": 41,
   "metadata": {},
   "outputs": [
    {
     "data": {
      "text/plain": [
       "{'Nombre': 'Jorge',\n",
       " 'Apellido': 'Baltondano',\n",
       " 'Cargo': 'Ing.Sistemas',\n",
       " 'Empresa': 'Sunat'}"
      ]
     },
     "execution_count": 41,
     "metadata": {},
     "output_type": "execute_result"
    }
   ],
   "source": [
    "#METODO copy()\n",
    "datosCopia=datosPersonales.copy()\n",
    "datosCopia\n"
   ]
  },
  {
   "cell_type": "markdown",
   "metadata": {
    "slideshow": {
     "slide_type": "-"
    }
   },
   "source": [
    "> **METODO fromkeys()**\n",
    "\n",
    "El metodo fromkeys permite generar claves-valores a partir de diccionarios ya creados o tambien se hace uso de listas. Se puede utilizar para agregar conjunto de datos con las mismas caracteristicas"
   ]
  },
  {
   "cell_type": "code",
   "execution_count": 30,
   "metadata": {},
   "outputs": [
    {
     "data": {
      "text/plain": [
       "{'Jorge': {24, 'Baltodano', 'Ing.Sistemas', 'Sunat'},\n",
       " 'Miguel': {24, 'Baltodano', 'Ing.Sistemas', 'Sunat'},\n",
       " 'Gonzalo': {24, 'Baltodano', 'Ing.Sistemas', 'Sunat'},\n",
       " 'Carlos': {24, 'Baltodano', 'Ing.Sistemas', 'Sunat'}}"
      ]
     },
     "execution_count": 30,
     "metadata": {},
     "output_type": "execute_result"
    }
   ],
   "source": [
    "#Creando dos diccionarios\n",
    "clave={\"Jorge\",\"Carlos\",\"Miguel\",\"Gonzalo\"}\n",
    "valor={\"Baltodano\",24,\"Ing.Sistemas\",\"Sunat\"}\n",
    "\n",
    "#Utilizando metodo fromkeys()\n",
    "datosGenerales=dict.fromkeys(clave,valor)\n",
    "#Imprimir nuevo diccionario\n",
    "datosGenerales"
   ]
  },
  {
   "cell_type": "markdown",
   "metadata": {},
   "source": [
    "> **METODO update()**"
   ]
  },
  {
   "cell_type": "code",
   "execution_count": 28,
   "metadata": {},
   "outputs": [
    {
     "data": {
      "text/plain": [
       "{'Nombre': 'Jorge',\n",
       " 'Apellido': 'Baltondano',\n",
       " 'Cargo': 'Ing.Sistemas',\n",
       " 'Empresa': 'Sunat',\n",
       " 'Color': 'Caucasico',\n",
       " 'Talla': 1.65,\n",
       " 'Peso': 70,\n",
       " 'Hobby': 'Grabar Videos'}"
      ]
     },
     "execution_count": 28,
     "metadata": {},
     "output_type": "execute_result"
    }
   ],
   "source": [
    "#Metodo update()\n",
    "datosPersonales.update(datosExtras)\n",
    "datosPersonales"
   ]
  },
  {
   "cell_type": "markdown",
   "metadata": {},
   "source": [
    "> **METODO setdefault()**\n",
    "\n",
    "Sirve para agregar nuevas claves y valor y si el valor no existe se crea un valor por defecto. \n",
    "\n",
    "**Sintaxis:** \n",
    "setdefault(\"clave\", \" nada | \" valor_defecto\")**"
   ]
  },
  {
   "cell_type": "code",
   "execution_count": 4,
   "metadata": {},
   "outputs": [
    {
     "data": {
      "text/plain": [
       "{'Nombre': 'Jorge',\n",
       " 'Apellido': 'Baltondano',\n",
       " 'Cargo': 'Ing.Sistemas',\n",
       " 'Empresa': 'Sunat',\n",
       " 'Area': 'Area T.I'}"
      ]
     },
     "execution_count": 4,
     "metadata": {},
     "output_type": "execute_result"
    }
   ],
   "source": [
    "#Ingresando una nueva clave u nuevo valor\n",
    "datosPersonales.setdefault(\"Area\", \"Area T.I\")\n",
    "datosPersonales"
   ]
  },
  {
   "cell_type": "code",
   "execution_count": 6,
   "metadata": {},
   "outputs": [
    {
     "data": {
      "text/plain": [
       "{'Nombre': 'Jorge',\n",
       " 'Apellido': 'Baltondano',\n",
       " 'Cargo': 'Ing.Sistemas',\n",
       " 'Empresa': 'Sunat',\n",
       " 'Area': 'Area T.I',\n",
       " 'Experiencia': None}"
      ]
     },
     "execution_count": 6,
     "metadata": {},
     "output_type": "execute_result"
    }
   ],
   "source": [
    "#Ingresando una clave sin ningun valor\n",
    "datosPersonales.setdefault(\"Experiencia\")\n",
    "datosPersonales"
   ]
  },
  {
   "cell_type": "markdown",
   "metadata": {},
   "source": [
    "#### **METODOS DE RETORNO**\n",
    "\n",
    "|METODO| DESCRIPCION|\n",
    "|:---|:---|\n",
    "|**get()**|Obtener un valor o valores de una clave buscada |\n",
    "|**items()**|Devuelte tanto las claves como los valores|\n",
    "|**keys()**|Devuelve todas las claves de un diccionario|\n",
    "|**values()**|Devuelve todos los valores contenidos en un diccionario|\n",
    "|**len()**|Determina la cantidad de elementos de un diccionario|\n",
    "|**clear()**|Elimina y limpia todos los elementos del diccionario|\n",
    "\n",
    "Ya mencionado todos los metodos de retorno que se puede realizar con los diccionarios, pues manos a la obra, que el tiempo apremia."
   ]
  },
  {
   "cell_type": "markdown",
   "metadata": {},
   "source": [
    "> **METODO get()**"
   ]
  },
  {
   "cell_type": "code",
   "execution_count": 11,
   "metadata": {},
   "outputs": [
    {
     "data": {
      "text/plain": [
       "{'Nombre': 'Jorge',\n",
       " 'Apellido': 'Baltodano',\n",
       " 'Edad': 24,\n",
       " 'Carrera': 'Ing.Sistemas',\n",
       " 'Cargo': 'Administrativo'}"
      ]
     },
     "execution_count": 11,
     "metadata": {},
     "output_type": "execute_result"
    }
   ],
   "source": [
    "#Buscando si una clave ya existe dentro del diccionario\n",
    "empleados.get(\"117711\")"
   ]
  },
  {
   "cell_type": "markdown",
   "metadata": {},
   "source": [
    "> **METODO items()**"
   ]
  },
  {
   "cell_type": "code",
   "execution_count": 22,
   "metadata": {},
   "outputs": [
    {
     "data": {
      "text/plain": [
       "dict_items([('Nombre', 'Jorge'), ('Apellido', 'Baltondano'), ('Cargo', 'Ing.Sistemas'), ('Empresa', 'Sunat'), ('Area', 'Area T.I'), ('Experiencia', None)])"
      ]
     },
     "execution_count": 22,
     "metadata": {},
     "output_type": "execute_result"
    }
   ],
   "source": [
    "#METODO items()\n",
    "datosPersonales.items()\n"
   ]
  },
  {
   "cell_type": "markdown",
   "metadata": {},
   "source": [
    "> **METODO key()**"
   ]
  },
  {
   "cell_type": "code",
   "execution_count": 23,
   "metadata": {},
   "outputs": [
    {
     "data": {
      "text/plain": [
       "dict_keys(['Nombre', 'Apellido', 'Cargo', 'Empresa', 'Area', 'Experiencia'])"
      ]
     },
     "execution_count": 23,
     "metadata": {},
     "output_type": "execute_result"
    }
   ],
   "source": [
    "#METODO key()\n",
    "datosPersonales.keys()"
   ]
  },
  {
   "cell_type": "markdown",
   "metadata": {},
   "source": [
    "> **METODO values()**"
   ]
  },
  {
   "cell_type": "code",
   "execution_count": 25,
   "metadata": {},
   "outputs": [
    {
     "data": {
      "text/plain": [
       "dict_values(['Jorge', 'Baltondano', 'Ing.Sistemas', 'Sunat', 'Area T.I', None])"
      ]
     },
     "execution_count": 25,
     "metadata": {},
     "output_type": "execute_result"
    }
   ],
   "source": [
    "#Metodo values()\n",
    "datosPersonales.values()"
   ]
  },
  {
   "cell_type": "markdown",
   "metadata": {},
   "source": [
    "> **METODO len()**\n",
    "\n",
    "Cuebta la cantidad de elementos que contiene un diccionario"
   ]
  },
  {
   "cell_type": "code",
   "execution_count": 26,
   "metadata": {},
   "outputs": [
    {
     "data": {
      "text/plain": [
       "6"
      ]
     },
     "execution_count": 26,
     "metadata": {},
     "output_type": "execute_result"
    }
   ],
   "source": [
    "len(datosPersonales)"
   ]
  },
  {
   "cell_type": "markdown",
   "metadata": {},
   "source": [
    "> **METODO clear()**"
   ]
  },
  {
   "cell_type": "code",
   "execution_count": 27,
   "metadata": {},
   "outputs": [
    {
     "data": {
      "text/plain": [
       "{}"
      ]
     },
     "execution_count": 27,
     "metadata": {},
     "output_type": "execute_result"
    }
   ],
   "source": [
    "datosPersonales.clear()\n",
    "datosPersonales"
   ]
  }
 ],
 "metadata": {
  "kernelspec": {
   "display_name": "Python 3",
   "language": "python",
   "name": "python3"
  },
  "language_info": {
   "codemirror_mode": {
    "name": "ipython",
    "version": 3
   },
   "file_extension": ".py",
   "mimetype": "text/x-python",
   "name": "python",
   "nbconvert_exporter": "python",
   "pygments_lexer": "ipython3",
   "version": "3.7.1"
  }
 },
 "nbformat": 4,
 "nbformat_minor": 2
}
