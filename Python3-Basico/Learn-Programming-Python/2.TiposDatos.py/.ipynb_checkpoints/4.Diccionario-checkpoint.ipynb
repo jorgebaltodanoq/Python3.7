{
 "cells": [
  {
   "cell_type": "markdown",
   "metadata": {},
   "source": [
    "# **DATOS MUTABLES EN PYTHON3**\n",
    "\n",
    "Las **sencuencias mutables** pueden ser cambiadas despues de su creacion, y se tiene a los diccionarios, dentro de todos los datos incorporados en **SanPython** los diccionarios son la colummna vertevral de cada objeto en Python, pues es el unico tipo de dato que te permite realizar mapeos estandar."
   ]
  },
  {
   "cell_type": "markdown",
   "metadata": {},
   "source": [
    "Hay que tener en cuenta que para la creacion de un diccionario, la sintaxis es la siguiente:\n",
    "\n",
    "**\"nombrediccionario= { clave: valor, clave : valor}\"**\n",
    "\n",
    "Ademas, para poder devolver algun valor, se debe acceder a por su clave. Otro punto importante es que todas las claves van entre comillas y el valor va en comillas sólo los valores cadena(str) y los digitos sin ellas, a menos que se desea ser consideras como cadenas."
   ]
  },
  {
   "cell_type": "code",
   "execution_count": 7,
   "metadata": {},
   "outputs": [
    {
     "data": {
      "text/plain": [
       "{'Nombre': 'Jorge',\n",
       " 'Apellido': 'Baltodano',\n",
       " 'Carrera': 'Ing.Sistemas',\n",
       " 'Empresa': 'Sunat',\n",
       " 'Talla': 1.65}"
      ]
     },
     "execution_count": 7,
     "metadata": {},
     "output_type": "execute_result"
    }
   ],
   "source": [
    "#Creando un \n",
    "miDiccionario = {\"Nombre\":\"Jorge\", \"Apellido\":\"Baltodano\",\"Carrera\":\"Ing.Sistemas\", 'Empresa':\"Sunat\",\"Talla\":1.65}\n",
    "miDiccionario"
   ]
  }
 ],
 "metadata": {
  "kernelspec": {
   "display_name": "Python 3",
   "language": "python",
   "name": "python3"
  },
  "language_info": {
   "codemirror_mode": {
    "name": "ipython",
    "version": 3
   },
   "file_extension": ".py",
   "mimetype": "text/x-python",
   "name": "python",
   "nbconvert_exporter": "python",
   "pygments_lexer": "ipython3",
   "version": "3.7.1"
  }
 },
 "nbformat": 4,
 "nbformat_minor": 2
}
