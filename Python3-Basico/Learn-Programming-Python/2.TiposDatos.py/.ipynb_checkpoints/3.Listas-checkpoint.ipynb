{
 "cells": [
  {
   "cell_type": "markdown",
   "metadata": {},
   "source": [
    "# **DATOS MUTABLES EN PYTHON3**\n",
    "\n",
    "Las **sencuencias mutables** pueden ser cambiadas despues de su creacion, y se tiene dos tipos:  \n",
    " - Listas"
   ]
  },
  {
   "cell_type": "markdown",
   "metadata": {},
   "source": [
    "## **LISTAS EN PYTHON**\n",
    "Las listas en python son muy similares a las tuplas, la única diferencia es que pueden ser modificadas desde su creación. Las listas se usan para **almacenar colecciones de objetos homogeneos y heterogeneos**.\n",
    "\n",
    "**Ejemplo de lista:**\n",
    "\n",
    "datos = [\"Jorge\",\"Baltodano\",26,\"Ing.Sistemas\",\"Empresario\",1.60]\n",
    "\n",
    "Podemos observar una lista llamada:**datos** que contiene **elementos**:\"Jorge\",\"Baltodano\",26,\"Ing.Sistemas\",\"Empresario\""
   ]
  },
  {
   "cell_type": "code",
   "execution_count": 2,
   "metadata": {},
   "outputs": [
    {
     "data": {
      "text/plain": [
       "['Jorge', 'Baltodano', 26, 'Ing.Sistemas', 'Empresario', 1.6]"
      ]
     },
     "execution_count": 2,
     "metadata": {},
     "output_type": "execute_result"
    }
   ],
   "source": [
    "\n",
    "#Creando una lista simple que contiene los datos de una persona.\n",
    "datos=[\"Jorge\",\"Baltodano\",26,\"Ing.Sistemas\",\"Empresario\",1.60]\n",
    "\n",
    "# Mostrar la lista creada, invocado por su nombre\n",
    "datos\n",
    "#Salida: ['Jorge', 'Baltodano', 26, 'Ing.Sistemas', 'Empresario', 1.6]\n"
   ]
  },
  {
   "cell_type": "markdown",
   "metadata": {},
   "source": [
    "## **- Metodos de Listas.**\n",
    "A decir verdad, Python es mágico y hermoso; pero su verdadera belleza viene con el uso de sus metodos principales. Pues manos a la obra.\n",
    "\n",
    "> **Metodo append()**\n",
    "\n",
    "      El metodo append() permite agregar un solo elemento al final de una lista ya creada. Es decir de\n",
    "      forma predeterminada el elemento nuevo se agrega despues del último elemento.\n"
   ]
  },
  {
   "cell_type": "code",
   "execution_count": 13,
   "metadata": {},
   "outputs": [
    {
     "data": {
      "text/plain": [
       "['Python', 3.7, 'Anaconda', 3, 'Django', 4, 'Flask', 4, 'Framework', 'Scypi']"
      ]
     },
     "execution_count": 13,
     "metadata": {},
     "output_type": "execute_result"
    }
   ],
   "source": [
    "# Creando una nueva lista de elementos heterogeneos\n",
    "micadena=[\"Python\",3.7,\"Anaconda\",3,\"Django\",4,\"Flask\",4,\"Framework\"]\n",
    "# Mostrar dicha cadena\n",
    "micadena\n",
    "\n",
    "#Agregar un elemento al final\n",
    "micadena.append(\"Scypi\")\n",
    "\n",
    "#Mostrar la nueva cadena\n",
    "micadena"
   ]
  },
  {
   "cell_type": "markdown",
   "metadata": {},
   "source": [
    "> **Metodo Count()**\n",
    "\n",
    "    El metodo count() permite contar las incidencias de busquedas de elementos, es decircuenta la \n",
    "    cantidad de apariciones que tiene un elemento dentro de una lista y devuelve la cantidad \n",
    "    de apariciones."
   ]
  },
  {
   "cell_type": "code",
   "execution_count": 15,
   "metadata": {},
   "outputs": [
    {
     "data": {
      "text/plain": [
       "2"
      ]
     },
     "execution_count": 15,
     "metadata": {},
     "output_type": "execute_result"
    }
   ],
   "source": [
    "# Crear una cadena de n elementos\n",
    "numeros=[1,4,5,3,4,6,8,15,13,15,13,11,18,19,2,4]\n",
    "#Contar la cantidad de apariciones del valor 15\n",
    "numeros.count(15)"
   ]
  },
  {
   "cell_type": "markdown",
   "metadata": {},
   "source": [
    "> **Metodo extend()**\n",
    "\n",
    "    El metodo extend() permite agregar una coleccion de elementos, al final de la lista. "
   ]
  },
  {
   "cell_type": "code",
   "execution_count": 17,
   "metadata": {},
   "outputs": [
    {
     "data": {
      "text/plain": [
       "[1, 4, 5, 3, 4, 6, 8, 2, 3, 4, 5, 7, 1, 2, 'elementos al final']"
      ]
     },
     "execution_count": 17,
     "metadata": {},
     "output_type": "execute_result"
    }
   ],
   "source": [
    "# Crear una cadena de n elementos\n",
    "numeros=[1,4,5,3,4,6,8]\n",
    "#Agregar n elemetnos a la lista.\n",
    "numeros.extend([2,3,4,5,7,1,2,\"elementos al final\"])\n",
    "#Mostrar la nueva lista\n",
    "numeros"
   ]
  },
  {
   "cell_type": "markdown",
   "metadata": {},
   "source": [
    "> **Metodo index()**\n",
    "\n",
    "    El metodo index() permite obtener el indice de un elemento buscado dentro la lista.\n",
    "    Si dentro de la lista se encuentra repetido el elemento, muestra el indice de quien \n",
    "    encuentre primero."
   ]
  },
  {
   "cell_type": "code",
   "execution_count": 1,
   "metadata": {},
   "outputs": [
    {
     "data": {
      "text/plain": [
       "1"
      ]
     },
     "execution_count": 1,
     "metadata": {},
     "output_type": "execute_result"
    }
   ],
   "source": [
    "# Crear una cadena de n elementos\n",
    "numeros=[1,4,5,3,4,6,8]\n",
    "#Encontrar el indice del elemento 4 en la lista.\n",
    "numeros.index(4)"
   ]
  },
  {
   "cell_type": "markdown",
   "metadata": {},
   "source": [
    "> **Metodo insert()**\n",
    "\n",
    "    El metodo insert() permite insertar un elemento en una posicion especificada dentro de la\n",
    "    lista, y se agrega despues de dicha posicion. Para utilizar dicho metodo, es necesario \n",
    "    de dos parametros, el indice y el valor."
   ]
  },
  {
   "cell_type": "code",
   "execution_count": 3,
   "metadata": {},
   "outputs": [
    {
     "data": {
      "text/plain": [
       "[1, 4, 5, 3, 20, 4, 6, 8]"
      ]
     },
     "execution_count": 3,
     "metadata": {},
     "output_type": "execute_result"
    }
   ],
   "source": [
    "# Crear una cadena de n elementos\n",
    "numeros=[1,4,5,3,4,6,8]\n",
    "#Agregar el elemetno 20 en la posicion 4 la lista.\n",
    "numeros.insert(4,20)\n",
    "#Mostrar la nueva lista\n",
    "numeros\n",
    "#No olvidar que DiosPython cuenta desde 0 hacia adelante."
   ]
  },
  {
   "cell_type": "markdown",
   "metadata": {},
   "source": [
    "> **Metodo pop()**\n",
    "\n",
    "    El metodo pop() permite eliminar un elemento en una posicion especificada dentro de la\n",
    "    lista, y retorna la nueva lista quedante."
   ]
  },
  {
   "cell_type": "code",
   "execution_count": 9,
   "metadata": {},
   "outputs": [
    {
     "data": {
      "text/plain": [
       "[1, 4, 5, 3, 6, 8]"
      ]
     },
     "execution_count": 9,
     "metadata": {},
     "output_type": "execute_result"
    }
   ],
   "source": [
    "# Crear una cadena de n elementos\n",
    "numeros=[1,4,5,3,4,6,8]\n",
    "#Quitar el elemento en la posicion 4 de la lista.\n",
    "numeros.pop(4) \n",
    "#Mostrar la nueva lista\n",
    "numeros\n",
    "#No olvidar que DiosPython cuenta desde 0 hacia adelante."
   ]
  },
  {
   "cell_type": "markdown",
   "metadata": {},
   "source": [
    "> **Metodo remove()**\n",
    "\n",
    "    El metodo remove() permite eliminar un elemento especificado por su valor dentro de la lista."
   ]
  },
  {
   "cell_type": "code",
   "execution_count": 14,
   "metadata": {},
   "outputs": [
    {
     "data": {
      "text/plain": [
       "['Carlos', 20, 'Ing.Sistemas', 1.7, 'Ms. Sistemas informacion', 'EsSalud', 75]"
      ]
     },
     "execution_count": 14,
     "metadata": {},
     "output_type": "execute_result"
    }
   ],
   "source": [
    "# Crear una cadena de n elementos\n",
    "numeros=[\"Carlos\",20,\"Ing.Sistemas\",1.70,\"Ms. Sistemas informacion\", 75,\"EsSalud\", 75]\n",
    "#Quitar el elemento  75 de la lista\n",
    "numeros.remove(75)\n",
    "#Mostrar la nueva lista\n",
    "numeros\n"
   ]
  },
  {
   "cell_type": "markdown",
   "metadata": {},
   "source": [
    "> **Metodo reverse()**\n",
    "\n",
    "    El metodo reverse() permite invertir los elementos de la lista."
   ]
  },
  {
   "cell_type": "code",
   "execution_count": null,
   "metadata": {},
   "outputs": [],
   "source": [
    "# Crear una cadena de n elementos\n",
    "numeros=[\"Carlos\",20,\"Ing.Sistemas\",1.70,\"Ms. Sistemas informacion\", 75,\"EsSalud\", 75]\n",
    "#Invertir los elemento la lista\n",
    "numeros.reverse()\n",
    "#Mostrar la nueva lista\n",
    "numeros"
   ]
  },
  {
   "cell_type": "markdown",
   "metadata": {},
   "source": [
    "[75, 'EsSalud' , 75 , 'Ms. Sistemas informacion' ,  1.7 ,  'Ing.Sistemas' ,  20 ,  'Carlos']"
   ]
  },
  {
   "cell_type": "markdown",
   "metadata": {},
   "source": [
    "> **Metodo sort()**\n",
    "\n",
    "    El metodo sort() permite ordenar los elementos de una lista; siempre y cuando los elementos\n",
    "    sean homogeneas, a diferencia con el metodo sorted, es que este metodo ordena los elementos\n",
    "    y los reescribe, mientras que el metodo sorted, sólo lo ordena y muestra, pero no reescribe."
   ]
  },
  {
   "cell_type": "code",
   "execution_count": 8,
   "metadata": {},
   "outputs": [
    {
     "data": {
      "text/plain": [
       "[(1, 2), (1, 3), (2, -1), (4, 9), (5, 3)]"
      ]
     },
     "execution_count": 8,
     "metadata": {},
     "output_type": "execute_result"
    }
   ],
   "source": [
    "# Crear una cadena de n elementos\n",
    "numeros=[(5, 3), (1, 3), (1, 2), (2, -1), (4, 9)] #Una lista con numeros dentro de tuplas\n",
    "#Ordenar los elemento la lista\n",
    "numeros.sort()\n",
    "#Mostrar la nueva lista\n",
    "numeros"
   ]
  },
  {
   "cell_type": "markdown",
   "metadata": {},
   "source": [
    "> **Metodo sorted()**\n",
    "\n",
    "    El metodo sorted() permite ordenar los elementos de una lista; siempre y cuando los elementos\n",
    "    sean homogeneas, ya que si hay nuemeros y cadenas genera un error."
   ]
  },
  {
   "cell_type": "code",
   "execution_count": 11,
   "metadata": {},
   "outputs": [
    {
     "data": {
      "text/plain": [
       "[(1, 2), (1, 3), (2, -1), (4, 9), (5, 3)]"
      ]
     },
     "execution_count": 11,
     "metadata": {},
     "output_type": "execute_result"
    }
   ],
   "source": [
    "# Crear una cadena de n elementos\n",
    "numeros=[(5, 3), (1, 3), (1, 2), (2, -1), (4, 9)] #Una lista con numeros dentro de tuplas\n",
    "#Ordenar los elemento la lista y mostrar.\n",
    "sorted(numeros)\n"
   ]
  },
  {
   "cell_type": "markdown",
   "metadata": {},
   "source": [
    "> **Metodo min()**\n",
    "\n",
    "    El metodo min() permite obtener el menor numero o grupo de numeros dentro de una lista."
   ]
  },
  {
   "cell_type": "code",
   "execution_count": 15,
   "metadata": {},
   "outputs": [
    {
     "data": {
      "text/plain": [
       "(1, 2)"
      ]
     },
     "execution_count": 15,
     "metadata": {},
     "output_type": "execute_result"
    }
   ],
   "source": [
    "# Crear una cadena de n elementos\n",
    "numeros=[(5, 3), (1, 3), (1, 2), (2, -1), (4, 9)] #Una lista con numeros dentro de tuplas\n",
    "#Obtener el menor valor de la lista..\n",
    "min(numeros)"
   ]
  },
  {
   "cell_type": "markdown",
   "metadata": {},
   "source": [
    "> **Metodo max()**\n",
    "\n",
    "    El metodo max() permite obtener el m numero o grupo de numeros dentro de una lista."
   ]
  },
  {
   "cell_type": "code",
   "execution_count": 19,
   "metadata": {},
   "outputs": [
    {
     "data": {
      "text/plain": [
       "(5, 3)"
      ]
     },
     "execution_count": 19,
     "metadata": {},
     "output_type": "execute_result"
    }
   ],
   "source": [
    "# Crear una cadena de n elementos\n",
    "numeros=[(5, 3), (1, 3), (1, 2), (2, -1), (4, 9)] #Una lista con numeros dentro de tuplas\n",
    "#Obtener el mayor valor de la lista..\n",
    "max(numeros)"
   ]
  },
  {
   "cell_type": "markdown",
   "metadata": {},
   "source": [
    "> **Metodo sum()**\n",
    "\n",
    "    El metodo sum() permite sumar los numeros dentro de una lista."
   ]
  },
  {
   "cell_type": "code",
   "execution_count": 18,
   "metadata": {},
   "outputs": [
    {
     "data": {
      "text/plain": [
       "29"
      ]
     },
     "execution_count": 18,
     "metadata": {},
     "output_type": "execute_result"
    }
   ],
   "source": [
    "# Crear una cadena de n elementos\n",
    "numeros=[5, 3, 1, 3, 1, 2, 2, -1, 4, 9] #Una lista con numeros dentro de tuplas\n",
    "#Obtener el mayor valor de la lista..\n",
    "sum(numeros)"
   ]
  },
  {
   "cell_type": "markdown",
   "metadata": {},
   "source": [
    "> **Metodo len()**\n",
    "\n",
    "    El metodo len() permite contar los elementos dentro de una lista."
   ]
  },
  {
   "cell_type": "code",
   "execution_count": 20,
   "metadata": {},
   "outputs": [
    {
     "data": {
      "text/plain": [
       "5"
      ]
     },
     "execution_count": 20,
     "metadata": {},
     "output_type": "execute_result"
    }
   ],
   "source": [
    "# Crear una cadena de n elementos\n",
    "numeros=[(5, 3), (1, 3), (1, 2), (2, -1), (4, 9)] #Una lista con numeros dentro de tuplas\n",
    "#Obtener el mayor valor de la lista..\n",
    "len(numeros)"
   ]
  },
  {
   "cell_type": "markdown",
   "metadata": {},
   "source": [
    "## **- Operaciones con listas.**\n",
    "\n",
    "    Python es grandioso y pues permite realizar operaciones entre listas."
   ]
  },
  {
   "cell_type": "code",
   "execution_count": 22,
   "metadata": {},
   "outputs": [],
   "source": [
    "#Creando tres listas para realizar operaciones.\n",
    "a=[1,3,5,6,7,8,5,3,3]\n",
    "b=[5,4,7,9,7,4,3,2,1]\n",
    "c=[\"Jorge\",\"Baltodano\",25,\"Ing.Sistemas\",1.65]\n"
   ]
  },
  {
   "cell_type": "markdown",
   "metadata": {},
   "source": [
    ">  **Concatenar Listas**\n",
    "\n",
    "    Para concatenar dos o mas listas, es decir que los elementos de otra lista se agreguen al final\n",
    "    de la primera lista se puede realizar con el operador **\"+\"**"
   ]
  },
  {
   "cell_type": "code",
   "execution_count": 23,
   "metadata": {},
   "outputs": [
    {
     "data": {
      "text/plain": [
       "['Jorge', 'Baltodano', 25, 'Ing.Sistemas', 1.65, 1, 3, 5, 6, 7, 8, 5, 3, 3]"
      ]
     },
     "execution_count": 23,
     "metadata": {},
     "output_type": "execute_result"
    }
   ],
   "source": [
    "#Concatemer las listas a y c y colocarlo en una nueva variable llamada datosRecord\n",
    "datosRecord=c+a\n",
    "datosRecord"
   ]
  },
  {
   "cell_type": "code",
   "execution_count": 24,
   "metadata": {},
   "outputs": [
    {
     "data": {
      "text/plain": [
       "[1, 3, 5, 6, 7, 8, 5, 3, 3, 5, 4, 7, 9, 7, 4, 3, 2, 1]"
      ]
     },
     "execution_count": 24,
     "metadata": {},
     "output_type": "execute_result"
    }
   ],
   "source": [
    "#Concatener la lista a y b formando una nueva lita llamada listaNumeros\n",
    "listaNumeros=a+b\n",
    "listaNumeros"
   ]
  },
  {
   "cell_type": "markdown",
   "metadata": {},
   "source": [
    "## **- Accediento a Elementos Listas.**\n",
    "\n",
    "    Para poder acceder a un elemento, todos o por grupos dentro de las listas, se tiene muchas \n",
    "    manera de como realizarlo, es necesario, entender la logica para no dificultarse, ya que \n",
    "    es necesario para secciones mas adelante."
   ]
  },
  {
   "cell_type": "code",
   "execution_count": 28,
   "metadata": {},
   "outputs": [],
   "source": [
    "#Creando tres listas para acceder a ellos.\n",
    "a=[1,3,5,6,7,8,5,3,3]\n",
    "b=[5,4,7,9,7,4,3,2,1]\n",
    "c=[\"Jorge\",\"Baltodano\",25,\"Ing.Sistemas\",1.65]\n",
    "\n",
    "#Creando una nueva lista.\n",
    "listaNumeros=a+b"
   ]
  },
  {
   "cell_type": "markdown",
   "metadata": {},
   "source": [
    "#### **Acceder por Pisicion**\n",
    "\n",
    "Acceder a cada elemento de la lista por la posicion en la que se encuente, es una acceso\n",
    "a los elementos de la lista bastante facil."
   ]
  },
  {
   "cell_type": "code",
   "execution_count": 37,
   "metadata": {},
   "outputs": [
    {
     "data": {
      "text/plain": [
       "[1, 3, 5, 6, 7, 8, 5, 3, 3, 5, 4, 7, 9, 7, 4, 3, 2, 1]"
      ]
     },
     "execution_count": 37,
     "metadata": {},
     "output_type": "execute_result"
    }
   ],
   "source": [
    "#Accediendo por los indices.\n",
    "listaNumeros[4] #Recupera el elemento en la posicion 4 en este caso : 7\n",
    "listaNumeros[15] #Recupera el elemento: 3\n",
    "listaNumeros[10] #Recupera el elemento: 4\n",
    "listaNumeros[:] #Recupera el elemento: 5\n"
   ]
  },
  {
   "cell_type": "markdown",
   "metadata": {},
   "source": [
    "#### **Acceder por Grupo**\n",
    "\n",
    "Acceder a un grupo de elementos de la lista es bastante sencillo, sólo se debe tener paciencia para entenderlo.."
   ]
  },
  {
   "cell_type": "code",
   "execution_count": null,
   "metadata": {},
   "outputs": [],
   "source": [
    "\"\"\"\n",
    "Acceder por grupo\n",
    "\"\"\"\n",
    "#listaNumero=[\"1, 3, 5, 6, 7, 8\", 5, 3, 3, 5, 4, 7, 9, 7, 4, 3, 2, 1]\n",
    "#1. Obtener los elementos que van desde 1 hasta 8 \n",
    "listaNumeros[0:6]\n",
    "\n",
    "\"\"\"\"\"\"\n",
    "#listaNumero=[1, 3, 5, 6, 7, 8, \"5, 3, 3, 5, 4, 7\", 9, 7, 4, 3, 2, 1]\n",
    "#2. Obtener los elementos \"5, 3, 3, 5, 4, 7\"\n",
    "listaNumeros[6:12]\n",
    "\n",
    "\"\"\"\"\"\"\n",
    "#listaNumero=[1, 3, 5, 6, 7, 8, 5, 3, 3, 5, 4, 7, \"9, 7, 4, 3, 2, 1\"]\n",
    "#3. Obtener los elementos \"9, 7, 4, 3, 2, 1\"\n",
    "listaNumeros[12:18]\n",
    "\n",
    "  #2da forma\n",
    "listaNumeros[12:]\n",
    "\n",
    "  #3ra forma\n",
    "listaNumeros[-6:]\n",
    "\n",
    "\"\"\"\"\"\""
   ]
  },
  {
   "cell_type": "markdown",
   "metadata": {},
   "source": [
    "#### **Acceder por Abreviatura**\n",
    "\n",
    "Acceder a los elementos utilizando un solo indice es posible, gracias a la potencia de !PYTHON!"
   ]
  },
  {
   "cell_type": "code",
   "execution_count": 56,
   "metadata": {},
   "outputs": [
    {
     "data": {
      "text/plain": [
       "[1, 3, 5, 6, 7, 8, 5, 3, 3, 5, 4, 7, 9]"
      ]
     },
     "execution_count": 56,
     "metadata": {},
     "output_type": "execute_result"
    }
   ],
   "source": [
    "#listaNumero=[1, 3, 5, 6, 7, 8, 5, 3, 3, 5, 4, 7, 9, 7, 4, 3, 2, 1]\n",
    "\n",
    "#Obtener los elementos por abreviatura\n",
    " #1.1 obtiene todos los elementos que empiezan en el indice 0\n",
    "listaNumeros[0:]\n",
    "\"\"\"\"\"\"\n",
    "\n",
    " #4.2. Obitiene todos los elementos que empiezan en el indice 4\n",
    "listaNumeros[4:]\n",
    "\"\"\"\"\"\"\n",
    "\n",
    " #4.3. Obtener todos los elemetnos solo hasta el indice 10\n",
    "listaNumeros[:10]\n",
    "\"\"\"\"\"\"\n",
    "\n",
    " #4.4. Obtener todos los elemetnos solo hasta el indice 4\n",
    "listaNumeros[:4]\n",
    "\"\"\"\"\"\"\n",
    "\n",
    " #4.5. Obtener los ultimos 5 numeros de la lista\n",
    "listaNumeros[-5:]\n",
    "\"\"\"\"\"\"\n",
    " \n",
    " #4.6. Obtener todos los elementos, menos los 5 ultimos numeros\n",
    "listaNumeros[:-5]"
   ]
  }
 ],
 "metadata": {
  "kernelspec": {
   "display_name": "Python 3",
   "language": "python",
   "name": "python3"
  },
  "language_info": {
   "codemirror_mode": {
    "name": "ipython",
    "version": 3
   },
   "file_extension": ".py",
   "mimetype": "text/x-python",
   "name": "python",
   "nbconvert_exporter": "python",
   "pygments_lexer": "ipython3",
   "version": "3.7.1"
  }
 },
 "nbformat": 4,
 "nbformat_minor": 2
}
