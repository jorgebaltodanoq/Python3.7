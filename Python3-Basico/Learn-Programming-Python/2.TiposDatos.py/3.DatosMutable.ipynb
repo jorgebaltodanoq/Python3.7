{
 "cells": [
  {
   "cell_type": "markdown",
   "metadata": {},
   "source": [
    "# DATOS MUTABLES EN PYTHON3\n",
    "\n",
    "Las **sencuencias mutables** pueden ser cambiadas despues de su creacion, y se tiene dos tipos:  \n",
    " - Listas\n",
    " - Matrices de bytes"
   ]
  },
  {
   "cell_type": "markdown",
   "metadata": {},
   "source": [
    "## LISTAS EN PYTHON\n",
    "Las listas en python son muy similares a las tuplas, la única diferencia es que pueden ser modificadas desde su creación. Las listas se usan para **almacenar colecciones de objetos homogeneos y heterogeneos**.\n",
    "\n",
    "**Ejemplo de lista:**\n",
    "\n",
    "datos = [\"Jorge\",\"Baltodano\",26,\"Ing.Sistemas\",\"Empresario\",1.60]\n",
    "\n",
    "Podemos observar una lista llamada:**datos** que contiene **elementos**:\"Jorge\",\"Baltodano\",26,\"Ing.Sistemas\",\"Empresario\""
   ]
  },
  {
   "cell_type": "code",
   "execution_count": 2,
   "metadata": {},
   "outputs": [
    {
     "data": {
      "text/plain": [
       "['Jorge', 'Baltodano', 26, 'Ing.Sistemas', 'Empresario', 1.6]"
      ]
     },
     "execution_count": 2,
     "metadata": {},
     "output_type": "execute_result"
    }
   ],
   "source": [
    "\n",
    "#Creando una lista simple que contiene los datos de una persona.\n",
    "datos=[\"Jorge\",\"Baltodano\",26,\"Ing.Sistemas\",\"Empresario\",1.60]\n",
    "\n",
    "# Mostrar la lista creada, invocado por su nombre\n",
    "datos\n",
    "#Salida: ['Jorge', 'Baltodano', 26, 'Ing.Sistemas', 'Empresario', 1.6]\n"
   ]
  },
  {
   "cell_type": "markdown",
   "metadata": {},
   "source": [
    "## Trabajando los Metodos de las Listas.\n",
    "A decir verdad, Python es mágico y hermoso; pero su verdadera belleza viene con el uso de sus metodos principales. Pues manos a la obra.\n",
    "\n",
    "> **Metodo append()**\n",
    "\n",
    "      El metodo append() permite agregar un solo elemento al final de una lista ya creada. Es decir de forma \n",
    "      predeterminada el elemento nuevo se agrega despues del último elemento.\n"
   ]
  },
  {
   "cell_type": "code",
   "execution_count": 13,
   "metadata": {},
   "outputs": [
    {
     "data": {
      "text/plain": [
       "['Python', 3.7, 'Anaconda', 3, 'Django', 4, 'Flask', 4, 'Framework', 'Scypi']"
      ]
     },
     "execution_count": 13,
     "metadata": {},
     "output_type": "execute_result"
    }
   ],
   "source": [
    "# Creando una nueva lista de elementos heterogeneos\n",
    "micadena=[\"Python\",3.7,\"Anaconda\",3,\"Django\",4,\"Flask\",4,\"Framework\"]\n",
    "# Mostrar dicha cadena\n",
    "micadena\n",
    "\n",
    "#Agregar un elemento al final\n",
    "micadena.append(\"Scypi\")\n",
    "\n",
    "#Mostrar la nueva cadena\n",
    "micadena"
   ]
  },
  {
   "cell_type": "markdown",
   "metadata": {},
   "source": [
    "> **Metodo Count()**\n",
    "\n",
    "    El metodo count() permite contar las incidencias de busquedas de elementos, es decircuenta la cantidad \n",
    "    de apariciones que tiene un elemento dentro de una lista y devuelve la cantidad de apariciones."
   ]
  },
  {
   "cell_type": "code",
   "execution_count": 15,
   "metadata": {},
   "outputs": [
    {
     "data": {
      "text/plain": [
       "2"
      ]
     },
     "execution_count": 15,
     "metadata": {},
     "output_type": "execute_result"
    }
   ],
   "source": [
    "# Crear una cadena de n elementos\n",
    "numeros=[1,4,5,3,4,6,8,15,13,15,13,11,18,19,2,4]\n",
    "#Contar la cantidad de apariciones del valor 15\n",
    "numeros.count(15)"
   ]
  },
  {
   "cell_type": "markdown",
   "metadata": {},
   "source": [
    "> **Metodo extend()**\n",
    "\n",
    "    El metodo extend() permite agregar una coleccion de elementos, al final de la lista. "
   ]
  },
  {
   "cell_type": "code",
   "execution_count": 17,
   "metadata": {},
   "outputs": [
    {
     "data": {
      "text/plain": [
       "[1, 4, 5, 3, 4, 6, 8, 2, 3, 4, 5, 7, 1, 2, 'elementos al final']"
      ]
     },
     "execution_count": 17,
     "metadata": {},
     "output_type": "execute_result"
    }
   ],
   "source": [
    "# Crear una cadena de n elementos\n",
    "numeros=[1,4,5,3,4,6,8]\n",
    "#Agregar n elemetnos a la lista.\n",
    "numeros.extend([2,3,4,5,7,1,2,\"elementos al final\"])\n",
    "#Mostrar la nueva lista\n",
    "numeros"
   ]
  },
  {
   "cell_type": "markdown",
   "metadata": {},
   "source": [
    "> **Metodo index()**\n",
    "\n",
    "    El metodo index() permite obtener el indice de un elemento buscado dentro la lista. Si dentro de la lista se encuentra\n",
    "    repetido el elemento, muestra el indice de quien encuentre primero."
   ]
  },
  {
   "cell_type": "code",
   "execution_count": null,
   "metadata": {},
   "outputs": [],
   "source": [
    "# Crear una cadena de n elementos\n",
    "numeros=[1,4,5,3,4,6,8]\n",
    "#Agregar n elemetnos a la lista.\n",
    "numeros.extend([2,3,4,5,7,1,2,\"elementos al final\"])\n",
    "#Mostrar la nueva lista\n",
    "numeros"
   ]
  }
 ],
 "metadata": {
  "kernelspec": {
   "display_name": "Python 3",
   "language": "python",
   "name": "python3"
  },
  "language_info": {
   "codemirror_mode": {
    "name": "ipython",
    "version": 3
   },
   "file_extension": ".py",
   "mimetype": "text/x-python",
   "name": "python",
   "nbconvert_exporter": "python",
   "pygments_lexer": "ipython3",
   "version": "3.7.1"
  }
 },
 "nbformat": 4,
 "nbformat_minor": 2
}
