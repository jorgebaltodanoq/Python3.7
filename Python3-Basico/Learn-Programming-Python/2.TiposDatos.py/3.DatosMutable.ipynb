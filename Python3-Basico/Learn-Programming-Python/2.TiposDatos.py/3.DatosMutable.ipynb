{
 "cells": [
  {
   "cell_type": "markdown",
   "metadata": {},
   "source": [
    "# DATOS MUTABLES EN PYTHON3\n",
    "\n",
    "Las **sencuencias mutables** pueden ser cambiadas despues de su creacion, y se tiene dos tipos:  \n",
    " - Listas\n",
    " - Matrices de bytes"
   ]
  },
  {
   "cell_type": "markdown",
   "metadata": {},
   "source": [
    "## LISTAS EN PYTHON\n",
    "Las listas en python son muy similares a las tuplas, la única diferencia es que pueden ser modificadas desde su creación. Las listas se usan para **almacenar colecciones de objetos homogeneos y heterogeneos**.\n",
    "\n",
    "**Ejemplo de lista:**\n",
    "\n",
    "datos = [\"Jorge\",\"Baltodano\",26,\"Ing.Sistemas\",\"Empresario\",1.60]\n",
    "\n",
    "Podemos observar una lista llamada:**datos** que contiene **elementos**:\"Jorge\",\"Baltodano\",26,\"Ing.Sistemas\",\"Empresario\""
   ]
  },
  {
   "cell_type": "code",
   "execution_count": 2,
   "metadata": {},
   "outputs": [
    {
     "data": {
      "text/plain": [
       "['Jorge', 'Baltodano', 26, 'Ing.Sistemas', 'Empresario', 1.6]"
      ]
     },
     "execution_count": 2,
     "metadata": {},
     "output_type": "execute_result"
    }
   ],
   "source": [
    "\n",
    "#Creando una lista simple que contiene los datos de una persona.\n",
    "datos=[\"Jorge\",\"Baltodano\",26,\"Ing.Sistemas\",\"Empresario\",1.60]\n",
    "\n",
    "# Mostrar la lista creada, invocado por su nombre\n",
    "datos\n",
    "#Salida: ['Jorge', 'Baltodano', 26, 'Ing.Sistemas', 'Empresario', 1.6]\n"
   ]
  }
 ],
 "metadata": {
  "kernelspec": {
   "display_name": "Python 3",
   "language": "python",
   "name": "python3"
  },
  "language_info": {
   "codemirror_mode": {
    "name": "ipython",
    "version": 3
   },
   "file_extension": ".py",
   "mimetype": "text/x-python",
   "name": "python",
   "nbconvert_exporter": "python",
   "pygments_lexer": "ipython3",
   "version": "3.7.1"
  }
 },
 "nbformat": 4,
 "nbformat_minor": 2
}
